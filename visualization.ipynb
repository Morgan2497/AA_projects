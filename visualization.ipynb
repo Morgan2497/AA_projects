{
  "cells": [
    {
      "cell_type": "markdown",
      "metadata": {
        "id": "hCkTOfOVNGB1"
      },
      "source": [
        "# CPSC 375 Classwork - Data Visualization Lets-Plot\n",
        "\n",
        "[![Open In Colab](https://colab.research.google.com/assets/colab-badge.svg)](https://colab.research.google.com/github/ProfAvery/cpsc375-classwork/blob/main/visualization.ipynb)\n",
        "\n",
        "- *Manager*:\n",
        "- *Recorder*:\n",
        "- *Presenter*:\n",
        "- *Timekeeper*:"
      ]
    },
    {
      "cell_type": "markdown",
      "metadata": {
        "id": "Jk95gB4SNGB3"
      },
      "source": [
        "*Note*: On Google Colab, run the following code cell to download the `cpsc375` module before trying to `import`:"
      ]
    },
    {
      "cell_type": "code",
      "execution_count": null,
      "metadata": {
        "id": "MGLJkPqQNGB3"
      },
      "outputs": [],
      "source": [
        "!mkdir -p ./cpsc375 && wget --quiet --timestamping https://raw.githubusercontent.com/ProfAvery/cpsc375-classwork/refs/heads/main/cpsc375/__init__.py --output-document=./cpsc375/__init__.py"
      ]
    },
    {
      "cell_type": "code",
      "execution_count": null,
      "metadata": {
        "id": "WqAEmVIfNGB4"
      },
      "outputs": [],
      "source": [
        "from cpsc375 import *"
      ]
    },
    {
      "cell_type": "markdown",
      "metadata": {
        "id": "80b5DIPjNGB4"
      },
      "source": [
        "## Part 1 - Slide 33"
      ]
    },
    {
      "cell_type": "markdown",
      "metadata": {
        "id": "AZ6o-HIMNGB4"
      },
      "source": [
        "Consider the data *iris*\n",
        "\n",
        "1. Create a scatterplot of Sepal.Length vs. Sepal.Width\n"
      ]
    },
    {
      "cell_type": "code",
      "execution_count": null,
      "metadata": {
        "id": "nAUAKnj1NGB4"
      },
      "outputs": [],
      "source": []
    },
    {
      "cell_type": "markdown",
      "metadata": {
        "id": "xduDeFgKNGB4"
      },
      "source": [
        "2. Create a scatterplot of Sepal.Length vs. Sepal.Width but plot points in red"
      ]
    },
    {
      "cell_type": "code",
      "execution_count": null,
      "metadata": {
        "id": "XjDVkHpxNGB5"
      },
      "outputs": [],
      "source": []
    },
    {
      "cell_type": "markdown",
      "metadata": {
        "id": "K6QyzHkbNGB5"
      },
      "source": [
        "3. Create a scatterplot of Sepal.Length vs. Sepal.Width and Species"
      ]
    },
    {
      "cell_type": "code",
      "execution_count": null,
      "metadata": {
        "id": "taVQ99c0NGB5"
      },
      "outputs": [],
      "source": []
    },
    {
      "cell_type": "markdown",
      "metadata": {
        "id": "J5WAjgYTNGB5"
      },
      "source": [
        "4. Save a plot as a PNG file\n",
        "   \n",
        "   *Note*: click the \"Files\" tab (the folder icon) on the left-hand side of the Colab window to find the file."
      ]
    },
    {
      "cell_type": "code",
      "execution_count": null,
      "metadata": {
        "id": "IAFafNSoNGB5"
      },
      "outputs": [],
      "source": []
    },
    {
      "cell_type": "markdown",
      "metadata": {
        "id": "cqEHgE_nNGB6"
      },
      "source": [
        "## Part 2 - Slide 38"
      ]
    },
    {
      "cell_type": "markdown",
      "metadata": {
        "id": "SLkCqEn5NGB6"
      },
      "source": [
        "Consider the data *iris*\n",
        "\n",
        "1. Create a histogram of Sepal.Length"
      ]
    },
    {
      "cell_type": "code",
      "execution_count": null,
      "metadata": {
        "id": "M0UIUoowNGB6"
      },
      "outputs": [],
      "source": []
    },
    {
      "cell_type": "markdown",
      "metadata": {
        "id": "S2mxTnY4NGB6"
      },
      "source": [
        "2. Try different values of binwidth"
      ]
    },
    {
      "cell_type": "code",
      "execution_count": null,
      "metadata": {
        "id": "l2Ph0scINGB6"
      },
      "outputs": [],
      "source": []
    },
    {
      "cell_type": "markdown",
      "metadata": {
        "id": "bbgX1jI7NGB6"
      },
      "source": [
        "## Part 3 - Slide 45"
      ]
    },
    {
      "cell_type": "markdown",
      "metadata": {
        "id": "H4zpu75mNGB6"
      },
      "source": [
        "Consider the data *iris*\n",
        "\n",
        "1. Create a scatterplot of Sepal.Length vs. Sepal.Width"
      ]
    },
    {
      "cell_type": "code",
      "execution_count": null,
      "metadata": {
        "id": "NmVjFaulNGB6"
      },
      "outputs": [],
      "source": []
    },
    {
      "cell_type": "markdown",
      "metadata": {
        "id": "dDHF1jsBNGB7"
      },
      "source": [
        "2. Label the axes as \"Sepal length\" and \"Sepal width\""
      ]
    },
    {
      "cell_type": "code",
      "execution_count": null,
      "metadata": {
        "id": "AGzD7xsGNGB7"
      },
      "outputs": [],
      "source": []
    },
    {
      "cell_type": "markdown",
      "metadata": {
        "id": "77FdYY48NGB7"
      },
      "source": [
        "3. Set the limits of the axes to 1..10"
      ]
    },
    {
      "cell_type": "code",
      "execution_count": null,
      "metadata": {
        "id": "VX1dfqK5NGB7"
      },
      "outputs": [],
      "source": []
    },
    {
      "cell_type": "markdown",
      "metadata": {
        "id": "5Ll8I6E8NGB7"
      },
      "source": [
        "4. Change the theme to anything you like\n",
        "\n",
        "* Eg., `theme_bw`\n",
        "* `help('lets_plot.plot.theme_set')` to see other themes"
      ]
    },
    {
      "cell_type": "code",
      "execution_count": null,
      "metadata": {
        "id": "Jl052caHNGB7"
      },
      "outputs": [],
      "source": []
    }
  ],
  "metadata": {
    "kernelspec": {
      "display_name": "cpsc375-python",
      "language": "python",
      "name": "python3"
    },
    "language_info": {
      "codemirror_mode": {
        "name": "ipython",
        "version": 3
      },
      "file_extension": ".py",
      "mimetype": "text/x-python",
      "name": "python",
      "nbconvert_exporter": "python",
      "pygments_lexer": "ipython3",
      "version": "3.11.7"
    },
    "colab": {
      "provenance": []
    }
  },
  "nbformat": 4,
  "nbformat_minor": 0
}